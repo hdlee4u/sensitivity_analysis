{
 "cells": [
  {
   "cell_type": "markdown",
   "metadata": {},
   "source": [
    "# Sensitivity Analysis"
   ]
  },
  {
   "cell_type": "code",
   "execution_count": 1,
   "metadata": {},
   "outputs": [],
   "source": [
    "import numpy as np\n",
    "import pandas as pd"
   ]
  },
  {
   "cell_type": "code",
   "execution_count": 2,
   "metadata": {},
   "outputs": [],
   "source": [
    "url = 'http://archive.ics.uci.edu/ml/machine-learning-databases/abalone/abalone.data'\n",
    "abalone = pd.read_csv(url\n",
    "                      , sep=','\n",
    "                      , header=None\n",
    "                      , names=['sex', 'length', 'diameter', 'height', \n",
    "                               'whole_weight', 'shucked_weight', 'viscera_weight',\n",
    "                               'shell_weight', 'rings']\n",
    "                     , index_col=None)"
   ]
  },
  {
   "cell_type": "code",
   "execution_count": 3,
   "metadata": {},
   "outputs": [
    {
     "data": {
      "text/html": [
       "<div>\n",
       "<style scoped>\n",
       "    .dataframe tbody tr th:only-of-type {\n",
       "        vertical-align: middle;\n",
       "    }\n",
       "\n",
       "    .dataframe tbody tr th {\n",
       "        vertical-align: top;\n",
       "    }\n",
       "\n",
       "    .dataframe thead th {\n",
       "        text-align: right;\n",
       "    }\n",
       "</style>\n",
       "<table border=\"1\" class=\"dataframe\">\n",
       "  <thead>\n",
       "    <tr style=\"text-align: right;\">\n",
       "      <th></th>\n",
       "      <th>sex</th>\n",
       "      <th>length</th>\n",
       "      <th>diameter</th>\n",
       "      <th>height</th>\n",
       "      <th>whole_weight</th>\n",
       "      <th>shucked_weight</th>\n",
       "      <th>viscera_weight</th>\n",
       "      <th>shell_weight</th>\n",
       "      <th>rings</th>\n",
       "    </tr>\n",
       "  </thead>\n",
       "  <tbody>\n",
       "    <tr>\n",
       "      <th>0</th>\n",
       "      <td>M</td>\n",
       "      <td>0.455</td>\n",
       "      <td>0.365</td>\n",
       "      <td>0.095</td>\n",
       "      <td>0.5140</td>\n",
       "      <td>0.2245</td>\n",
       "      <td>0.1010</td>\n",
       "      <td>0.150</td>\n",
       "      <td>15</td>\n",
       "    </tr>\n",
       "    <tr>\n",
       "      <th>1</th>\n",
       "      <td>M</td>\n",
       "      <td>0.350</td>\n",
       "      <td>0.265</td>\n",
       "      <td>0.090</td>\n",
       "      <td>0.2255</td>\n",
       "      <td>0.0995</td>\n",
       "      <td>0.0485</td>\n",
       "      <td>0.070</td>\n",
       "      <td>7</td>\n",
       "    </tr>\n",
       "    <tr>\n",
       "      <th>2</th>\n",
       "      <td>F</td>\n",
       "      <td>0.530</td>\n",
       "      <td>0.420</td>\n",
       "      <td>0.135</td>\n",
       "      <td>0.6770</td>\n",
       "      <td>0.2565</td>\n",
       "      <td>0.1415</td>\n",
       "      <td>0.210</td>\n",
       "      <td>9</td>\n",
       "    </tr>\n",
       "    <tr>\n",
       "      <th>3</th>\n",
       "      <td>M</td>\n",
       "      <td>0.440</td>\n",
       "      <td>0.365</td>\n",
       "      <td>0.125</td>\n",
       "      <td>0.5160</td>\n",
       "      <td>0.2155</td>\n",
       "      <td>0.1140</td>\n",
       "      <td>0.155</td>\n",
       "      <td>10</td>\n",
       "    </tr>\n",
       "    <tr>\n",
       "      <th>4</th>\n",
       "      <td>I</td>\n",
       "      <td>0.330</td>\n",
       "      <td>0.255</td>\n",
       "      <td>0.080</td>\n",
       "      <td>0.2050</td>\n",
       "      <td>0.0895</td>\n",
       "      <td>0.0395</td>\n",
       "      <td>0.055</td>\n",
       "      <td>7</td>\n",
       "    </tr>\n",
       "  </tbody>\n",
       "</table>\n",
       "</div>"
      ],
      "text/plain": [
       "  sex  length  diameter  height  whole_weight  shucked_weight  viscera_weight  \\\n",
       "0   M   0.455     0.365   0.095        0.5140          0.2245          0.1010   \n",
       "1   M   0.350     0.265   0.090        0.2255          0.0995          0.0485   \n",
       "2   F   0.530     0.420   0.135        0.6770          0.2565          0.1415   \n",
       "3   M   0.440     0.365   0.125        0.5160          0.2155          0.1140   \n",
       "4   I   0.330     0.255   0.080        0.2050          0.0895          0.0395   \n",
       "\n",
       "   shell_weight  rings  \n",
       "0         0.150     15  \n",
       "1         0.070      7  \n",
       "2         0.210      9  \n",
       "3         0.155     10  \n",
       "4         0.055      7  "
      ]
     },
     "execution_count": 3,
     "metadata": {},
     "output_type": "execute_result"
    }
   ],
   "source": [
    "abalone.head()"
   ]
  },
  {
   "cell_type": "markdown",
   "metadata": {},
   "source": [
    "## Linear Regression"
   ]
  },
  {
   "cell_type": "code",
   "execution_count": 4,
   "metadata": {},
   "outputs": [
    {
     "data": {
      "text/plain": [
       "array(['M', 'F', 'I'], dtype=object)"
      ]
     },
     "execution_count": 4,
     "metadata": {},
     "output_type": "execute_result"
    }
   ],
   "source": [
    "abalone['sex'].unique()"
   ]
  },
  {
   "cell_type": "code",
   "execution_count": 5,
   "metadata": {},
   "outputs": [],
   "source": [
    "abalone['sex_m'] = np.where(abalone['sex'] == 'M', 1, 0)\n",
    "abalone['sex_f'] = np.where(abalone['sex'] == 'F', 1, 0)"
   ]
  },
  {
   "cell_type": "code",
   "execution_count": 6,
   "metadata": {},
   "outputs": [
    {
     "name": "stdout",
     "output_type": "stream",
     "text": [
      "Index(['const', 'sex_m', 'sex_f', 'length', 'diameter', 'height',\n",
      "       'shell_weight', 'rings'],\n",
      "      dtype='object')\n",
      "      const  sex_m  sex_f  length  diameter  height  shell_weight  rings\n",
      "0       1.0      1      0   0.455     0.365   0.095        0.1500     15\n",
      "1       1.0      1      0   0.350     0.265   0.090        0.0700      7\n",
      "2       1.0      0      1   0.530     0.420   0.135        0.2100      9\n",
      "3       1.0      1      0   0.440     0.365   0.125        0.1550     10\n",
      "4       1.0      0      0   0.330     0.255   0.080        0.0550      7\n",
      "...     ...    ...    ...     ...       ...     ...           ...    ...\n",
      "4172    1.0      0      1   0.565     0.450   0.165        0.2490     11\n",
      "4173    1.0      1      0   0.590     0.440   0.135        0.2605     10\n",
      "4174    1.0      1      0   0.600     0.475   0.205        0.3080      9\n",
      "4175    1.0      0      1   0.625     0.485   0.150        0.2960     10\n",
      "4176    1.0      1      0   0.710     0.555   0.195        0.4950     12\n",
      "\n",
      "[4177 rows x 8 columns]\n"
     ]
    },
    {
     "name": "stderr",
     "output_type": "stream",
     "text": [
      "/Users/ihongdon/anaconda3/envs/py3.6_tf2.0/lib/python3.6/site-packages/numpy/core/fromnumeric.py:2495: FutureWarning: Method .ptp is deprecated and will be removed in a future version. Use numpy.ptp instead.\n",
      "  return ptp(axis=axis, out=out, **kwargs)\n"
     ]
    }
   ],
   "source": [
    "# get X variables\n",
    "import statsmodels.api as sm\n",
    "X = abalone[[\"sex_m\", \"sex_f\", \"length\", \"diameter\", \"height\", \"shell_weight\", \"rings\"]]\n",
    "X = sm.add_constant(X) # add a constant to model\n",
    "X_col = X.columns\n",
    "print(X_col)\n",
    "print(X)\n",
    "\n",
    "# get y value\n",
    "y = abalone[\"whole_weight\"]"
   ]
  },
  {
   "cell_type": "code",
   "execution_count": 7,
   "metadata": {},
   "outputs": [],
   "source": [
    "# train, test set split\n",
    "from sklearn.model_selection import train_test_split\n",
    "\n",
    "X_train, X_test, y_train, y_test = train_test_split(X, \n",
    "                                                    y, \n",
    "                                                    test_size=0.2, \n",
    "                                                    random_state=2004)"
   ]
  },
  {
   "cell_type": "code",
   "execution_count": 8,
   "metadata": {},
   "outputs": [
    {
     "name": "stdout",
     "output_type": "stream",
     "text": [
      "Shape of X_train: (3341, 8)\n",
      "Shape of X_test: (836, 8)\n",
      "Shape of y_train: (3341,)\n",
      "Shape of y_test: (836,)\n"
     ]
    }
   ],
   "source": [
    "print('Shape of X_train:', X_train.shape) \n",
    "print('Shape of X_test:', X_test.shape) \n",
    "print('Shape of y_train:', y_train.shape) \n",
    "print('Shape of y_test:', y_test.shape)"
   ]
  },
  {
   "cell_type": "markdown",
   "metadata": {},
   "source": [
    "### Multivariate Linear Regression Model"
   ]
  },
  {
   "cell_type": "code",
   "execution_count": 9,
   "metadata": {
    "scrolled": false
   },
   "outputs": [
    {
     "data": {
      "text/html": [
       "<table class=\"simpletable\">\n",
       "<caption>OLS Regression Results</caption>\n",
       "<tr>\n",
       "  <th>Dep. Variable:</th>      <td>whole_weight</td>   <th>  R-squared:         </th> <td>   0.942</td>\n",
       "</tr>\n",
       "<tr>\n",
       "  <th>Model:</th>                   <td>OLS</td>       <th>  Adj. R-squared:    </th> <td>   0.942</td>\n",
       "</tr>\n",
       "<tr>\n",
       "  <th>Method:</th>             <td>Least Squares</td>  <th>  F-statistic:       </th> <td>   7738.</td>\n",
       "</tr>\n",
       "<tr>\n",
       "  <th>Date:</th>             <td>Fri, 17 Jan 2020</td> <th>  Prob (F-statistic):</th>  <td>  0.00</td> \n",
       "</tr>\n",
       "<tr>\n",
       "  <th>Time:</th>                 <td>21:43:07</td>     <th>  Log-Likelihood:    </th> <td>  2375.3</td>\n",
       "</tr>\n",
       "<tr>\n",
       "  <th>No. Observations:</th>      <td>  3341</td>      <th>  AIC:               </th> <td>  -4735.</td>\n",
       "</tr>\n",
       "<tr>\n",
       "  <th>Df Residuals:</th>          <td>  3333</td>      <th>  BIC:               </th> <td>  -4686.</td>\n",
       "</tr>\n",
       "<tr>\n",
       "  <th>Df Model:</th>              <td>     7</td>      <th>                     </th>     <td> </td>   \n",
       "</tr>\n",
       "<tr>\n",
       "  <th>Covariance Type:</th>      <td>nonrobust</td>    <th>                     </th>     <td> </td>   \n",
       "</tr>\n",
       "</table>\n",
       "<table class=\"simpletable\">\n",
       "<tr>\n",
       "        <td></td>          <th>coef</th>     <th>std err</th>      <th>t</th>      <th>P>|t|</th>  <th>[0.025</th>    <th>0.975]</th>  \n",
       "</tr>\n",
       "<tr>\n",
       "  <th>const</th>        <td>   -0.3609</td> <td>    0.015</td> <td>  -23.795</td> <td> 0.000</td> <td>   -0.391</td> <td>   -0.331</td>\n",
       "</tr>\n",
       "<tr>\n",
       "  <th>sex_m</th>        <td>    0.0349</td> <td>    0.006</td> <td>    6.039</td> <td> 0.000</td> <td>    0.024</td> <td>    0.046</td>\n",
       "</tr>\n",
       "<tr>\n",
       "  <th>sex_f</th>        <td>    0.0217</td> <td>    0.006</td> <td>    3.493</td> <td> 0.000</td> <td>    0.010</td> <td>    0.034</td>\n",
       "</tr>\n",
       "<tr>\n",
       "  <th>length</th>       <td>    1.2539</td> <td>    0.107</td> <td>   11.724</td> <td> 0.000</td> <td>    1.044</td> <td>    1.464</td>\n",
       "</tr>\n",
       "<tr>\n",
       "  <th>diameter</th>     <td>    0.0749</td> <td>    0.135</td> <td>    0.554</td> <td> 0.580</td> <td>   -0.190</td> <td>    0.340</td>\n",
       "</tr>\n",
       "<tr>\n",
       "  <th>height</th>       <td>    0.3880</td> <td>    0.088</td> <td>    4.410</td> <td> 0.000</td> <td>    0.216</td> <td>    0.561</td>\n",
       "</tr>\n",
       "<tr>\n",
       "  <th>shell_weight</th> <td>    2.4384</td> <td>    0.038</td> <td>   64.802</td> <td> 0.000</td> <td>    2.365</td> <td>    2.512</td>\n",
       "</tr>\n",
       "<tr>\n",
       "  <th>rings</th>        <td>   -0.0154</td> <td>    0.001</td> <td>  -18.423</td> <td> 0.000</td> <td>   -0.017</td> <td>   -0.014</td>\n",
       "</tr>\n",
       "</table>\n",
       "<table class=\"simpletable\">\n",
       "<tr>\n",
       "  <th>Omnibus:</th>       <td>698.165</td> <th>  Durbin-Watson:     </th> <td>   1.978</td>\n",
       "</tr>\n",
       "<tr>\n",
       "  <th>Prob(Omnibus):</th> <td> 0.000</td>  <th>  Jarque-Bera (JB):  </th> <td>4041.763</td>\n",
       "</tr>\n",
       "<tr>\n",
       "  <th>Skew:</th>          <td> 0.866</td>  <th>  Prob(JB):          </th> <td>    0.00</td>\n",
       "</tr>\n",
       "<tr>\n",
       "  <th>Kurtosis:</th>      <td> 8.102</td>  <th>  Cond. No.          </th> <td>    866.</td>\n",
       "</tr>\n",
       "</table><br/><br/>Warnings:<br/>[1] Standard Errors assume that the covariance matrix of the errors is correctly specified."
      ],
      "text/plain": [
       "<class 'statsmodels.iolib.summary.Summary'>\n",
       "\"\"\"\n",
       "                            OLS Regression Results                            \n",
       "==============================================================================\n",
       "Dep. Variable:           whole_weight   R-squared:                       0.942\n",
       "Model:                            OLS   Adj. R-squared:                  0.942\n",
       "Method:                 Least Squares   F-statistic:                     7738.\n",
       "Date:                Fri, 17 Jan 2020   Prob (F-statistic):               0.00\n",
       "Time:                        21:43:07   Log-Likelihood:                 2375.3\n",
       "No. Observations:                3341   AIC:                            -4735.\n",
       "Df Residuals:                    3333   BIC:                            -4686.\n",
       "Df Model:                           7                                         \n",
       "Covariance Type:            nonrobust                                         \n",
       "================================================================================\n",
       "                   coef    std err          t      P>|t|      [0.025      0.975]\n",
       "--------------------------------------------------------------------------------\n",
       "const           -0.3609      0.015    -23.795      0.000      -0.391      -0.331\n",
       "sex_m            0.0349      0.006      6.039      0.000       0.024       0.046\n",
       "sex_f            0.0217      0.006      3.493      0.000       0.010       0.034\n",
       "length           1.2539      0.107     11.724      0.000       1.044       1.464\n",
       "diameter         0.0749      0.135      0.554      0.580      -0.190       0.340\n",
       "height           0.3880      0.088      4.410      0.000       0.216       0.561\n",
       "shell_weight     2.4384      0.038     64.802      0.000       2.365       2.512\n",
       "rings           -0.0154      0.001    -18.423      0.000      -0.017      -0.014\n",
       "==============================================================================\n",
       "Omnibus:                      698.165   Durbin-Watson:                   1.978\n",
       "Prob(Omnibus):                  0.000   Jarque-Bera (JB):             4041.763\n",
       "Skew:                           0.866   Prob(JB):                         0.00\n",
       "Kurtosis:                       8.102   Cond. No.                         866.\n",
       "==============================================================================\n",
       "\n",
       "Warnings:\n",
       "[1] Standard Errors assume that the covariance matrix of the errors is correctly specified.\n",
       "\"\"\""
      ]
     },
     "execution_count": 9,
     "metadata": {},
     "output_type": "execute_result"
    }
   ],
   "source": [
    "# multivariate linear regression model\n",
    "import statsmodels.api as sm\n",
    "\n",
    "lin_reg = sm.OLS(y_train, X_train).fit()\n",
    "\n",
    "lin_reg.summary()"
   ]
  },
  {
   "cell_type": "code",
   "execution_count": 10,
   "metadata": {},
   "outputs": [
    {
     "data": {
      "text/html": [
       "<div>\n",
       "<style scoped>\n",
       "    .dataframe tbody tr th:only-of-type {\n",
       "        vertical-align: middle;\n",
       "    }\n",
       "\n",
       "    .dataframe tbody tr th {\n",
       "        vertical-align: top;\n",
       "    }\n",
       "\n",
       "    .dataframe thead th {\n",
       "        text-align: right;\n",
       "    }\n",
       "</style>\n",
       "<table border=\"1\" class=\"dataframe\">\n",
       "  <thead>\n",
       "    <tr style=\"text-align: right;\">\n",
       "      <th></th>\n",
       "      <th>actual</th>\n",
       "      <th>predicted</th>\n",
       "      <th>error</th>\n",
       "    </tr>\n",
       "  </thead>\n",
       "  <tbody>\n",
       "    <tr>\n",
       "      <th>3473</th>\n",
       "      <td>0.0455</td>\n",
       "      <td>-0.094703</td>\n",
       "      <td>0.140203</td>\n",
       "    </tr>\n",
       "    <tr>\n",
       "      <th>3523</th>\n",
       "      <td>0.0970</td>\n",
       "      <td>0.020604</td>\n",
       "      <td>0.076396</td>\n",
       "    </tr>\n",
       "    <tr>\n",
       "      <th>1862</th>\n",
       "      <td>0.5185</td>\n",
       "      <td>0.690349</td>\n",
       "      <td>-0.171849</td>\n",
       "    </tr>\n",
       "    <tr>\n",
       "      <th>2966</th>\n",
       "      <td>1.4820</td>\n",
       "      <td>1.358950</td>\n",
       "      <td>0.123050</td>\n",
       "    </tr>\n",
       "    <tr>\n",
       "      <th>659</th>\n",
       "      <td>0.9585</td>\n",
       "      <td>1.137433</td>\n",
       "      <td>-0.178933</td>\n",
       "    </tr>\n",
       "  </tbody>\n",
       "</table>\n",
       "</div>"
      ],
      "text/plain": [
       "      actual  predicted     error\n",
       "3473  0.0455  -0.094703  0.140203\n",
       "3523  0.0970   0.020604  0.076396\n",
       "1862  0.5185   0.690349 -0.171849\n",
       "2966  1.4820   1.358950  0.123050\n",
       "659   0.9585   1.137433 -0.178933"
      ]
     },
     "execution_count": 10,
     "metadata": {},
     "output_type": "execute_result"
    }
   ],
   "source": [
    "# prediction\n",
    "predicted = lin_reg.predict(X_test)\n",
    "actual = y_test\n",
    "\n",
    "act_pred_df = pd.DataFrame({'actual': actual\n",
    "                            , 'predicted': predicted\n",
    "                            , 'error': actual - predicted})\n",
    "\n",
    "act_pred_df.head()"
   ]
  },
  {
   "cell_type": "code",
   "execution_count": 11,
   "metadata": {},
   "outputs": [
    {
     "data": {
      "image/png": "[encoded data removed]",
      "text/plain": [
       "<Figure size 432x288 with 1 Axes>"
      ]
     },
     "metadata": {
      "needs_background": "light"
     },
     "output_type": "display_data"
    }
   ],
   "source": [
    "import matplotlib.pyplot as plt\n",
    "\n",
    "plt.plot(act_pred_df['actual'], act_pred_df['predicted'], 'o')\n",
    "plt.xlabel('actual', fontsize=14)\n",
    "plt.ylabel('predicted', fontsize=14)\n",
    "plt.show()"
   ]
  },
  {
   "cell_type": "code",
   "execution_count": 12,
   "metadata": {},
   "outputs": [
    {
     "data": {
      "text/plain": [
       "0.11099248621173345"
      ]
     },
     "execution_count": 12,
     "metadata": {},
     "output_type": "execute_result"
    }
   ],
   "source": [
    "from sklearn.metrics import mean_squared_error\n",
    "from math import sqrt\n",
    "\n",
    "rmse = sqrt(mean_squared_error(actual, predicted))\n",
    "rmse"
   ]
  },
  {
   "cell_type": "markdown",
   "metadata": {},
   "source": [
    "### Sensitivity Analysis"
   ]
  },
  {
   "cell_type": "code",
   "execution_count": 13,
   "metadata": {},
   "outputs": [
    {
     "data": {
      "text/plain": [
       "(836, 8)"
      ]
     },
     "execution_count": 13,
     "metadata": {},
     "output_type": "execute_result"
    }
   ],
   "source": [
    "X_test.shape"
   ]
  },
  {
   "cell_type": "code",
   "execution_count": 14,
   "metadata": {},
   "outputs": [
    {
     "data": {
      "text/plain": [
       "const           1.000\n",
       "sex_m           0.000\n",
       "sex_f           0.000\n",
       "length          0.210\n",
       "diameter        0.150\n",
       "height          0.055\n",
       "shell_weight    0.013\n",
       "rings           4.000\n",
       "Name: 3473, dtype: float64"
      ]
     },
     "execution_count": 14,
     "metadata": {},
     "output_type": "execute_result"
    }
   ],
   "source": [
    "# get 1st observation's value as an example\n",
    "X_i = X_test.iloc[0, :]\n",
    "X_i"
   ]
  },
  {
   "cell_type": "code",
   "execution_count": 15,
   "metadata": {},
   "outputs": [
    {
     "data": {
      "text/plain": [
       "8"
      ]
     },
     "execution_count": 15,
     "metadata": {},
     "output_type": "execute_result"
    }
   ],
   "source": [
    "X_i.shape[0]"
   ]
  },
  {
   "cell_type": "code",
   "execution_count": 16,
   "metadata": {},
   "outputs": [
    {
     "data": {
      "text/plain": [
       "array([[0., 0., 0., 0., 0., 0., 0., 0.],\n",
       "       [0., 0., 0., 0., 0., 0., 0., 0.],\n",
       "       [0., 0., 0., 0., 0., 0., 0., 0.],\n",
       "       [0., 0., 0., 0., 0., 0., 0., 0.],\n",
       "       [0., 0., 0., 0., 0., 0., 0., 0.],\n",
       "       [0., 0., 0., 0., 0., 0., 0., 0.],\n",
       "       [0., 0., 0., 0., 0., 0., 0., 0.],\n",
       "       [0., 0., 0., 0., 0., 0., 0., 0.]])"
      ]
     },
     "execution_count": 16,
     "metadata": {},
     "output_type": "execute_result"
    }
   ],
   "source": [
    "# all zeros matrix with shape of [col_num, col_num]\n",
    "X_mat = np.zeros(shape=[X_i.shape[0], X_i.shape[0]])\n",
    "X_mat"
   ]
  },
  {
   "cell_type": "code",
   "execution_count": 17,
   "metadata": {},
   "outputs": [],
   "source": [
    "# fill only 1 variable's value and leave '0' for the others\n",
    "for i, j in enumerate(X_i):\n",
    "    X_mat[i, i] = j"
   ]
  },
  {
   "cell_type": "code",
   "execution_count": 18,
   "metadata": {},
   "outputs": [
    {
     "data": {
      "text/plain": [
       "array([[1.   , 0.   , 0.   , 0.   , 0.   , 0.   , 0.   , 0.   ],\n",
       "       [0.   , 0.   , 0.   , 0.   , 0.   , 0.   , 0.   , 0.   ],\n",
       "       [0.   , 0.   , 0.   , 0.   , 0.   , 0.   , 0.   , 0.   ],\n",
       "       [0.   , 0.   , 0.   , 0.21 , 0.   , 0.   , 0.   , 0.   ],\n",
       "       [0.   , 0.   , 0.   , 0.   , 0.15 , 0.   , 0.   , 0.   ],\n",
       "       [0.   , 0.   , 0.   , 0.   , 0.   , 0.055, 0.   , 0.   ],\n",
       "       [0.   , 0.   , 0.   , 0.   , 0.   , 0.   , 0.013, 0.   ],\n",
       "       [0.   , 0.   , 0.   , 0.   , 0.   , 0.   , 0.   , 4.   ]])"
      ]
     },
     "execution_count": 18,
     "metadata": {},
     "output_type": "execute_result"
    }
   ],
   "source": [
    "X_mat"
   ]
  },
  {
   "cell_type": "code",
   "execution_count": 19,
   "metadata": {},
   "outputs": [
    {
     "data": {
      "text/html": [
       "<div>\n",
       "<style scoped>\n",
       "    .dataframe tbody tr th:only-of-type {\n",
       "        vertical-align: middle;\n",
       "    }\n",
       "\n",
       "    .dataframe tbody tr th {\n",
       "        vertical-align: top;\n",
       "    }\n",
       "\n",
       "    .dataframe thead th {\n",
       "        text-align: right;\n",
       "    }\n",
       "</style>\n",
       "<table border=\"1\" class=\"dataframe\">\n",
       "  <thead>\n",
       "    <tr style=\"text-align: right;\">\n",
       "      <th></th>\n",
       "      <th>x</th>\n",
       "      <th>contribution_x</th>\n",
       "    </tr>\n",
       "  </thead>\n",
       "  <tbody>\n",
       "    <tr>\n",
       "      <th>length</th>\n",
       "      <td>0.210</td>\n",
       "      <td>0.263315</td>\n",
       "    </tr>\n",
       "    <tr>\n",
       "      <th>shell_weight</th>\n",
       "      <td>0.013</td>\n",
       "      <td>0.031699</td>\n",
       "    </tr>\n",
       "    <tr>\n",
       "      <th>height</th>\n",
       "      <td>0.055</td>\n",
       "      <td>0.021341</td>\n",
       "    </tr>\n",
       "    <tr>\n",
       "      <th>diameter</th>\n",
       "      <td>0.150</td>\n",
       "      <td>0.011237</td>\n",
       "    </tr>\n",
       "    <tr>\n",
       "      <th>sex_m</th>\n",
       "      <td>0.000</td>\n",
       "      <td>0.000000</td>\n",
       "    </tr>\n",
       "    <tr>\n",
       "      <th>sex_f</th>\n",
       "      <td>0.000</td>\n",
       "      <td>0.000000</td>\n",
       "    </tr>\n",
       "    <tr>\n",
       "      <th>rings</th>\n",
       "      <td>4.000</td>\n",
       "      <td>-0.061437</td>\n",
       "    </tr>\n",
       "    <tr>\n",
       "      <th>const</th>\n",
       "      <td>1.000</td>\n",
       "      <td>-0.360857</td>\n",
       "    </tr>\n",
       "  </tbody>\n",
       "</table>\n",
       "</div>"
      ],
      "text/plain": [
       "                  x  contribution_x\n",
       "length        0.210        0.263315\n",
       "shell_weight  0.013        0.031699\n",
       "height        0.055        0.021341\n",
       "diameter      0.150        0.011237\n",
       "sex_m         0.000        0.000000\n",
       "sex_f         0.000        0.000000\n",
       "rings         4.000       -0.061437\n",
       "const         1.000       -0.360857"
      ]
     },
     "execution_count": 19,
     "metadata": {},
     "output_type": "execute_result"
    }
   ],
   "source": [
    "sensitivity_df = pd.DataFrame({'x': X_test.iloc[0, :]\n",
    "                               , 'contribution_x': lin_reg.predict(X_mat)}).\\\n",
    "                 sort_values(by='contribution_x', ascending=False)\n",
    "\n",
    "sensitivity_df"
   ]
  },
  {
   "cell_type": "code",
   "execution_count": 20,
   "metadata": {},
   "outputs": [
    {
     "data": {
      "image/png": "[encoded data removed]",
      "text/plain": [
       "<Figure size 720x360 with 1 Axes>"
      ]
     },
     "metadata": {
      "needs_background": "light"
     },
     "output_type": "display_data"
    }
   ],
   "source": [
    "sensitivity_df['contribution_x'].plot(kind='barh', figsize=(10, 5))\n",
    "plt.title('Sensitivity Analysis', fontsize=18)\n",
    "plt.xlabel('Contribution', fontsize=16)\n",
    "plt.ylabel('Variable', fontsize=16)\n",
    "plt.yticks(fontsize=14)\n",
    "plt.show()"
   ]
  },
  {
   "cell_type": "code",
   "execution_count": 21,
   "metadata": {},
   "outputs": [
    {
     "data": {
      "text/plain": [
       "-0.09470251191012563"
      ]
     },
     "execution_count": 21,
     "metadata": {},
     "output_type": "execute_result"
    }
   ],
   "source": [
    "sum(sensitivity_df['contribution_x'])"
   ]
  },
  {
   "cell_type": "code",
   "execution_count": 22,
   "metadata": {},
   "outputs": [
    {
     "data": {
      "text/plain": [
       "array([-0.09470251])"
      ]
     },
     "execution_count": 22,
     "metadata": {},
     "output_type": "execute_result"
    }
   ],
   "source": [
    "lin_reg.predict(X_test.iloc[0, :].to_numpy())"
   ]
  },
  {
   "cell_type": "code",
   "execution_count": 23,
   "metadata": {},
   "outputs": [],
   "source": [
    "# UDF for contribution(sensitivity) analysis per each variables\n",
    "def sensitivity_analysis(model, X, idx, bar_plot_yn):\n",
    "    \n",
    "    import numpy as np\n",
    "    import pandas as pd\n",
    "    import matplotlib.pyplot as plt\n",
    "    \n",
    "    # get one object's X values\n",
    "    X_i = X.iloc[idx, :]\n",
    "    \n",
    "    # make a matrix with zeros with shape of [num_cols, num_cols]\n",
    "    X_mat = np.zeros(shape=[X_i.shape[0], X_i.shape[0]])\n",
    "    \n",
    "    # fil X_mat with values from one by one columns, leaving the ohters zeros\n",
    "    for i, j in enumerate(X_i):\n",
    "        X_mat[i, i] = j\n",
    "    \n",
    "    # data frame with contribution of each X columns in descending order\n",
    "    sensitivity_df = pd.DataFrame({'idx': idx\n",
    "                                   , 'x': X_i\n",
    "                                   , 'contribution_x': model.predict(X_mat)}).\\\n",
    "                    sort_values(by='contribution_x', ascending=True)\n",
    "    \n",
    "    # if bar_plot_yn == True then display it\n",
    "    col_n = X_i.shape[0]\n",
    "    if bar_plot_yn == True:\n",
    "        sensitivity_df['contribution_x'].plot(kind='barh', figsize=(10, 0.7*col_n))\n",
    "        plt.title('Sensitivity Analysis', fontsize=18)\n",
    "        plt.xlabel('Contribution', fontsize=16)\n",
    "        plt.ylabel('Variable', fontsize=16)\n",
    "        plt.yticks(fontsize=14)\n",
    "        plt.show()\n",
    "    \n",
    "    return sensitivity_df.sort_values(by='contribution_x', ascending=False)"
   ]
  },
  {
   "cell_type": "code",
   "execution_count": 24,
   "metadata": {},
   "outputs": [
    {
     "data": {
      "image/png": "[encoded data removed]",
      "text/plain": [
       "<Figure size 720x403.2 with 1 Axes>"
      ]
     },
     "metadata": {
      "needs_background": "light"
     },
     "output_type": "display_data"
    },
    {
     "data": {
      "text/html": [
       "<div>\n",
       "<style scoped>\n",
       "    .dataframe tbody tr th:only-of-type {\n",
       "        vertical-align: middle;\n",
       "    }\n",
       "\n",
       "    .dataframe tbody tr th {\n",
       "        vertical-align: top;\n",
       "    }\n",
       "\n",
       "    .dataframe thead th {\n",
       "        text-align: right;\n",
       "    }\n",
       "</style>\n",
       "<table border=\"1\" class=\"dataframe\">\n",
       "  <thead>\n",
       "    <tr style=\"text-align: right;\">\n",
       "      <th></th>\n",
       "      <th>idx</th>\n",
       "      <th>x</th>\n",
       "      <th>contribution_x</th>\n",
       "    </tr>\n",
       "  </thead>\n",
       "  <tbody>\n",
       "    <tr>\n",
       "      <th>length</th>\n",
       "      <td>0</td>\n",
       "      <td>0.210</td>\n",
       "      <td>0.263315</td>\n",
       "    </tr>\n",
       "    <tr>\n",
       "      <th>shell_weight</th>\n",
       "      <td>0</td>\n",
       "      <td>0.013</td>\n",
       "      <td>0.031699</td>\n",
       "    </tr>\n",
       "    <tr>\n",
       "      <th>height</th>\n",
       "      <td>0</td>\n",
       "      <td>0.055</td>\n",
       "      <td>0.021341</td>\n",
       "    </tr>\n",
       "    <tr>\n",
       "      <th>diameter</th>\n",
       "      <td>0</td>\n",
       "      <td>0.150</td>\n",
       "      <td>0.011237</td>\n",
       "    </tr>\n",
       "    <tr>\n",
       "      <th>sex_m</th>\n",
       "      <td>0</td>\n",
       "      <td>0.000</td>\n",
       "      <td>0.000000</td>\n",
       "    </tr>\n",
       "    <tr>\n",
       "      <th>sex_f</th>\n",
       "      <td>0</td>\n",
       "      <td>0.000</td>\n",
       "      <td>0.000000</td>\n",
       "    </tr>\n",
       "    <tr>\n",
       "      <th>rings</th>\n",
       "      <td>0</td>\n",
       "      <td>4.000</td>\n",
       "      <td>-0.061437</td>\n",
       "    </tr>\n",
       "    <tr>\n",
       "      <th>const</th>\n",
       "      <td>0</td>\n",
       "      <td>1.000</td>\n",
       "      <td>-0.360857</td>\n",
       "    </tr>\n",
       "  </tbody>\n",
       "</table>\n",
       "</div>"
      ],
      "text/plain": [
       "              idx      x  contribution_x\n",
       "length          0  0.210        0.263315\n",
       "shell_weight    0  0.013        0.031699\n",
       "height          0  0.055        0.021341\n",
       "diameter        0  0.150        0.011237\n",
       "sex_m           0  0.000        0.000000\n",
       "sex_f           0  0.000        0.000000\n",
       "rings           0  4.000       -0.061437\n",
       "const           0  1.000       -0.360857"
      ]
     },
     "execution_count": 24,
     "metadata": {},
     "output_type": "execute_result"
    }
   ],
   "source": [
    "sensitivity_df = sensitivity_analysis(model=lin_reg, X=X_test, idx=0, bar_plot_yn=True)\n",
    "sensitivity_df"
   ]
  },
  {
   "cell_type": "code",
   "execution_count": 25,
   "metadata": {},
   "outputs": [
    {
     "data": {
      "text/html": [
       "<div>\n",
       "<style scoped>\n",
       "    .dataframe tbody tr th:only-of-type {\n",
       "        vertical-align: middle;\n",
       "    }\n",
       "\n",
       "    .dataframe tbody tr th {\n",
       "        vertical-align: top;\n",
       "    }\n",
       "\n",
       "    .dataframe thead th {\n",
       "        text-align: right;\n",
       "    }\n",
       "</style>\n",
       "<table border=\"1\" class=\"dataframe\">\n",
       "  <thead>\n",
       "    <tr style=\"text-align: right;\">\n",
       "      <th></th>\n",
       "      <th>idx</th>\n",
       "      <th>x</th>\n",
       "      <th>contribution_x</th>\n",
       "    </tr>\n",
       "  </thead>\n",
       "  <tbody>\n",
       "    <tr>\n",
       "      <th>length</th>\n",
       "      <td>0</td>\n",
       "      <td>0.210</td>\n",
       "      <td>0.263315</td>\n",
       "    </tr>\n",
       "    <tr>\n",
       "      <th>shell_weight</th>\n",
       "      <td>0</td>\n",
       "      <td>0.013</td>\n",
       "      <td>0.031699</td>\n",
       "    </tr>\n",
       "    <tr>\n",
       "      <th>height</th>\n",
       "      <td>0</td>\n",
       "      <td>0.055</td>\n",
       "      <td>0.021341</td>\n",
       "    </tr>\n",
       "    <tr>\n",
       "      <th>diameter</th>\n",
       "      <td>0</td>\n",
       "      <td>0.150</td>\n",
       "      <td>0.011237</td>\n",
       "    </tr>\n",
       "    <tr>\n",
       "      <th>sex_m</th>\n",
       "      <td>0</td>\n",
       "      <td>0.000</td>\n",
       "      <td>0.000000</td>\n",
       "    </tr>\n",
       "    <tr>\n",
       "      <th>sex_f</th>\n",
       "      <td>0</td>\n",
       "      <td>0.000</td>\n",
       "      <td>0.000000</td>\n",
       "    </tr>\n",
       "    <tr>\n",
       "      <th>rings</th>\n",
       "      <td>0</td>\n",
       "      <td>4.000</td>\n",
       "      <td>-0.061437</td>\n",
       "    </tr>\n",
       "    <tr>\n",
       "      <th>const</th>\n",
       "      <td>0</td>\n",
       "      <td>1.000</td>\n",
       "      <td>-0.360857</td>\n",
       "    </tr>\n",
       "  </tbody>\n",
       "</table>\n",
       "</div>"
      ],
      "text/plain": [
       "              idx      x  contribution_x\n",
       "length          0  0.210        0.263315\n",
       "shell_weight    0  0.013        0.031699\n",
       "height          0  0.055        0.021341\n",
       "diameter        0  0.150        0.011237\n",
       "sex_m           0  0.000        0.000000\n",
       "sex_f           0  0.000        0.000000\n",
       "rings           0  4.000       -0.061437\n",
       "const           0  1.000       -0.360857"
      ]
     },
     "execution_count": 25,
     "metadata": {},
     "output_type": "execute_result"
    }
   ],
   "source": [
    "sensitivity_df = sensitivity_analysis(model=lin_reg, X=X_test, idx=0, bar_plot_yn=False)\n",
    "sensitivity_df"
   ]
  },
  {
   "cell_type": "code",
   "execution_count": 26,
   "metadata": {},
   "outputs": [
    {
     "name": "stdout",
     "output_type": "stream",
     "text": [
      "[STATUS] 1 / 10 ( 10.0 %) is completed...\n",
      "[STATUS] 2 / 10 ( 20.0 %) is completed...\n",
      "[STATUS] 3 / 10 ( 30.0 %) is completed...\n",
      "[STATUS] 4 / 10 ( 40.0 %) is completed...\n",
      "[STATUS] 5 / 10 ( 50.0 %) is completed...\n",
      "[STATUS] 6 / 10 ( 60.0 %) is completed...\n",
      "[STATUS] 7 / 10 ( 70.0 %) is completed...\n",
      "[STATUS] 8 / 10 ( 80.0 %) is completed...\n",
      "[STATUS] 9 / 10 ( 90.0 %) is completed...\n",
      "[STATUS] 10 / 10 ( 100.0 %) is completed...\n"
     ]
    }
   ],
   "source": [
    "# calculate sensitivity of each columns of the first 10 objects using for loop\n",
    "\n",
    "# blank DataFrame to save the sensitivity results together\n",
    "sensitivity_df_all = pd.DataFrame()\n",
    "to_idx = 10\n",
    "\n",
    "for idx in range(0, to_idx):\n",
    "    sensitivity_df_idx = sensitivity_analysis(model=lin_reg\n",
    "                                              , X=X_test\n",
    "                                              , idx=idx\n",
    "                                              , bar_plot_yn=False)\n",
    "    \n",
    "    sensitivity_df_all = pd.concat([sensitivity_df_all, sensitivity_df_idx], axis=0)\n",
    "    \n",
    "    print(\"[STATUS]\", idx+1, \"/\", to_idx, \"(\", 100*(idx+1)/to_idx, \"%) is completed...\")"
   ]
  },
  {
   "cell_type": "code",
   "execution_count": 27,
   "metadata": {},
   "outputs": [
    {
     "data": {
      "text/html": [
       "<div>\n",
       "<style scoped>\n",
       "    .dataframe tbody tr th:only-of-type {\n",
       "        vertical-align: middle;\n",
       "    }\n",
       "\n",
       "    .dataframe tbody tr th {\n",
       "        vertical-align: top;\n",
       "    }\n",
       "\n",
       "    .dataframe thead th {\n",
       "        text-align: right;\n",
       "    }\n",
       "</style>\n",
       "<table border=\"1\" class=\"dataframe\">\n",
       "  <thead>\n",
       "    <tr style=\"text-align: right;\">\n",
       "      <th></th>\n",
       "      <th>idx</th>\n",
       "      <th>x</th>\n",
       "      <th>contribution_x</th>\n",
       "    </tr>\n",
       "  </thead>\n",
       "  <tbody>\n",
       "    <tr>\n",
       "      <th>length</th>\n",
       "      <td>0</td>\n",
       "      <td>0.2100</td>\n",
       "      <td>0.263315</td>\n",
       "    </tr>\n",
       "    <tr>\n",
       "      <th>shell_weight</th>\n",
       "      <td>0</td>\n",
       "      <td>0.0130</td>\n",
       "      <td>0.031699</td>\n",
       "    </tr>\n",
       "    <tr>\n",
       "      <th>height</th>\n",
       "      <td>0</td>\n",
       "      <td>0.0550</td>\n",
       "      <td>0.021341</td>\n",
       "    </tr>\n",
       "    <tr>\n",
       "      <th>diameter</th>\n",
       "      <td>0</td>\n",
       "      <td>0.1500</td>\n",
       "      <td>0.011237</td>\n",
       "    </tr>\n",
       "    <tr>\n",
       "      <th>sex_m</th>\n",
       "      <td>0</td>\n",
       "      <td>0.0000</td>\n",
       "      <td>0.000000</td>\n",
       "    </tr>\n",
       "    <tr>\n",
       "      <th>sex_f</th>\n",
       "      <td>0</td>\n",
       "      <td>0.0000</td>\n",
       "      <td>0.000000</td>\n",
       "    </tr>\n",
       "    <tr>\n",
       "      <th>rings</th>\n",
       "      <td>0</td>\n",
       "      <td>4.0000</td>\n",
       "      <td>-0.061437</td>\n",
       "    </tr>\n",
       "    <tr>\n",
       "      <th>const</th>\n",
       "      <td>0</td>\n",
       "      <td>1.0000</td>\n",
       "      <td>-0.360857</td>\n",
       "    </tr>\n",
       "    <tr>\n",
       "      <th>length</th>\n",
       "      <td>1</td>\n",
       "      <td>0.2600</td>\n",
       "      <td>0.326009</td>\n",
       "    </tr>\n",
       "    <tr>\n",
       "      <th>shell_weight</th>\n",
       "      <td>1</td>\n",
       "      <td>0.0305</td>\n",
       "      <td>0.074372</td>\n",
       "    </tr>\n",
       "    <tr>\n",
       "      <th>height</th>\n",
       "      <td>1</td>\n",
       "      <td>0.0700</td>\n",
       "      <td>0.027161</td>\n",
       "    </tr>\n",
       "    <tr>\n",
       "      <th>diameter</th>\n",
       "      <td>1</td>\n",
       "      <td>0.2050</td>\n",
       "      <td>0.015357</td>\n",
       "    </tr>\n",
       "    <tr>\n",
       "      <th>sex_m</th>\n",
       "      <td>1</td>\n",
       "      <td>0.0000</td>\n",
       "      <td>0.000000</td>\n",
       "    </tr>\n",
       "    <tr>\n",
       "      <th>sex_f</th>\n",
       "      <td>1</td>\n",
       "      <td>0.0000</td>\n",
       "      <td>0.000000</td>\n",
       "    </tr>\n",
       "    <tr>\n",
       "      <th>rings</th>\n",
       "      <td>1</td>\n",
       "      <td>4.0000</td>\n",
       "      <td>-0.061437</td>\n",
       "    </tr>\n",
       "    <tr>\n",
       "      <th>const</th>\n",
       "      <td>1</td>\n",
       "      <td>1.0000</td>\n",
       "      <td>-0.360857</td>\n",
       "    </tr>\n",
       "    <tr>\n",
       "      <th>length</th>\n",
       "      <td>2</td>\n",
       "      <td>0.5200</td>\n",
       "      <td>0.652018</td>\n",
       "    </tr>\n",
       "    <tr>\n",
       "      <th>shell_weight</th>\n",
       "      <td>2</td>\n",
       "      <td>0.1840</td>\n",
       "      <td>0.448668</td>\n",
       "    </tr>\n",
       "    <tr>\n",
       "      <th>height</th>\n",
       "      <td>2</td>\n",
       "      <td>0.1100</td>\n",
       "      <td>0.042682</td>\n",
       "    </tr>\n",
       "    <tr>\n",
       "      <th>diameter</th>\n",
       "      <td>2</td>\n",
       "      <td>0.4100</td>\n",
       "      <td>0.030713</td>\n",
       "    </tr>\n",
       "  </tbody>\n",
       "</table>\n",
       "</div>"
      ],
      "text/plain": [
       "              idx       x  contribution_x\n",
       "length          0  0.2100        0.263315\n",
       "shell_weight    0  0.0130        0.031699\n",
       "height          0  0.0550        0.021341\n",
       "diameter        0  0.1500        0.011237\n",
       "sex_m           0  0.0000        0.000000\n",
       "sex_f           0  0.0000        0.000000\n",
       "rings           0  4.0000       -0.061437\n",
       "const           0  1.0000       -0.360857\n",
       "length          1  0.2600        0.326009\n",
       "shell_weight    1  0.0305        0.074372\n",
       "height          1  0.0700        0.027161\n",
       "diameter        1  0.2050        0.015357\n",
       "sex_m           1  0.0000        0.000000\n",
       "sex_f           1  0.0000        0.000000\n",
       "rings           1  4.0000       -0.061437\n",
       "const           1  1.0000       -0.360857\n",
       "length          2  0.5200        0.652018\n",
       "shell_weight    2  0.1840        0.448668\n",
       "height          2  0.1100        0.042682\n",
       "diameter        2  0.4100        0.030713"
      ]
     },
     "execution_count": 27,
     "metadata": {},
     "output_type": "execute_result"
    }
   ],
   "source": [
    "sensitivity_df_all[:20]"
   ]
  },
  {
   "cell_type": "markdown",
   "metadata": {},
   "source": [
    "### (2) Logistic Regression for Classification"
   ]
  },
  {
   "cell_type": "code",
   "execution_count": 28,
   "metadata": {},
   "outputs": [
    {
     "data": {
      "text/plain": [
       "array([0, 0, 0, 0, 0, 0, 0, 0, 0, 1, 0, 0, 0, 0, 0, 0, 0, 0, 0, 0])"
      ]
     },
     "execution_count": 28,
     "metadata": {},
     "output_type": "execute_result"
    }
   ],
   "source": [
    "# make a y_category variable: if y is greater or equal to mean, then 1\n",
    "y_cat = np.where(abalone[\"whole_weight\"] >= np.mean(abalone[\"whole_weight\"]), 1, 0)\n",
    "y_cat[:20]"
   ]
  },
  {
   "cell_type": "code",
   "execution_count": 29,
   "metadata": {},
   "outputs": [
    {
     "data": {
      "text/plain": [
       "{0: 2178, 1: 1999}"
      ]
     },
     "execution_count": 29,
     "metadata": {},
     "output_type": "execute_result"
    }
   ],
   "source": [
    "cat_class, counts = np.unique(y_cat, return_counts=True)\n",
    "dict(zip(cat_class, counts))"
   ]
  },
  {
   "cell_type": "code",
   "execution_count": 30,
   "metadata": {},
   "outputs": [],
   "source": [
    "# train, test set split\n",
    "from sklearn.model_selection import train_test_split\n",
    "\n",
    "X_train, X_test, y_train, y_test = train_test_split(X, \n",
    "                                                    y_cat, \n",
    "                                                    test_size=0.2, \n",
    "                                                    random_state=2004)"
   ]
  },
  {
   "cell_type": "code",
   "execution_count": 31,
   "metadata": {},
   "outputs": [
    {
     "name": "stdout",
     "output_type": "stream",
     "text": [
      "Optimization terminated successfully.\n",
      "         Current function value: 0.108606\n",
      "         Iterations 11\n",
      "                           Logit Regression Results                           \n",
      "==============================================================================\n",
      "Dep. Variable:                      y   No. Observations:                 3341\n",
      "Model:                          Logit   Df Residuals:                     3333\n",
      "Method:                           MLE   Df Model:                            7\n",
      "Date:                Fri, 17 Jan 2020   Pseudo R-squ.:                  0.8431\n",
      "Time:                        21:43:08   Log-Likelihood:                -362.85\n",
      "converged:                       True   LL-Null:                       -2313.0\n",
      "Covariance Type:            nonrobust   LLR p-value:                     0.000\n",
      "================================================================================\n",
      "                   coef    std err          z      P>|z|      [0.025      0.975]\n",
      "--------------------------------------------------------------------------------\n",
      "const          -35.3546      2.219    -15.935      0.000     -39.703     -31.006\n",
      "sex_m            1.3064      0.250      5.217      0.000       0.816       1.797\n",
      "sex_f            1.1418      0.258      4.420      0.000       0.635       1.648\n",
      "length          36.6625      5.348      6.855      0.000      26.180      47.145\n",
      "diameter        11.7960      6.160      1.915      0.055      -0.277      23.869\n",
      "height           7.6179      2.011      3.789      0.000       3.677      11.559\n",
      "shell_weight    38.0930      3.286     11.593      0.000      31.653      44.533\n",
      "rings           -0.1062      0.038     -2.777      0.005      -0.181      -0.031\n",
      "================================================================================\n",
      "\n",
      "Possibly complete quasi-separation: A fraction 0.41 of observations can be\n",
      "perfectly predicted. This might indicate that there is complete\n",
      "quasi-separation. In this case some parameters will not be identified.\n"
     ]
    }
   ],
   "source": [
    "# fitting logistic regression\n",
    "import statsmodels.api as sm\n",
    "pd.options.mode.chained_assignment = None\n",
    "\n",
    "logitreg = sm.Logit(y_train, X_train)\n",
    "logitreg_fit = logitreg.fit()\n",
    "\n",
    "print(logitreg_fit.summary())"
   ]
  },
  {
   "cell_type": "code",
   "execution_count": 32,
   "metadata": {},
   "outputs": [
    {
     "data": {
      "text/plain": [
       "3473    9.341757e-12\n",
       "3523    2.440305e-10\n",
       "1862    1.147617e-02\n",
       "2966    9.999843e-01\n",
       "659     9.964952e-01\n",
       "dtype: float64"
      ]
     },
     "execution_count": 32,
     "metadata": {},
     "output_type": "execute_result"
    }
   ],
   "source": [
    "# prediction\n",
    "test_prob_logitreg = logitreg_fit.predict(X_test)\n",
    "test_prob_logitreg.head()"
   ]
  },
  {
   "cell_type": "code",
   "execution_count": 33,
   "metadata": {},
   "outputs": [],
   "source": [
    "# UDF for contribution(sensitivity) analysis per each variables\n",
    "def sensitivity_analysis_LinearReg_LogitReg(task, model, X, idx, bar_plot_yn):\n",
    "    \n",
    "    import numpy as np\n",
    "    import pandas as pd\n",
    "    import matplotlib.pyplot as plt\n",
    "    import statsmodels.api as sm\n",
    "    pd.options.mode.chained_assignment = None\n",
    "    \n",
    "    # get one object's X values\n",
    "    X_i = X.iloc[idx, :]\n",
    "    \n",
    "    # make a matrix with zeros with shape of [num_cols, num_cols]\n",
    "    X_mat = np.zeros(shape=[X_i.shape[0], X_i.shape[0]])\n",
    "    \n",
    "    # fil X_mat with values from one by one columns, leaving the ohters zeros\n",
    "    for i, j in enumerate(X_i):\n",
    "        X_mat[i, i] = j\n",
    "        \n",
    "    # data frame with contribution of each X columns in descending order\n",
    "    sensitivity_df = pd.DataFrame({\n",
    "        'idx': idx\n",
    "        , 'task': task\n",
    "        , 'x': X_i\n",
    "        , 'contribution_x': model.predict(X_mat)     \n",
    "    })\n",
    "    \n",
    "#     # ==== Remark =====\n",
    "#     # if you used LogisticRegressionsklearn library from sklearn.linear_model\n",
    "#     # then use codes below\n",
    "#     if task == \"LinearReg\":\n",
    "#         sensitivity_df = pd.DataFrame({\n",
    "#             'idx': idx\n",
    "#             , 'task': task\n",
    "#             , 'x': X_i\n",
    "#             , 'contribution_x': model.predict(X_mat) \n",
    "#         })\n",
    "        \n",
    "#     elif task == \"LogitReg\":\n",
    "#         sensitivity_df = pd.DataFrame({\n",
    "#             'idx': idx\n",
    "#             , 'task': task\n",
    "#             , 'x': X_i\n",
    "#             , 'contribution_x': model.predict_proba(X_mat)[:,1] \n",
    "#         })\n",
    "#     else:\n",
    "#         print('Please choose task one of \"LinearReg\" or \"LogitReg\"...')\n",
    "    \n",
    "    \n",
    "    sensitivity_df = sensitivity_df.sort_values(by='contribution_x', ascending=True)\n",
    "    \n",
    "    # if bar_plot_yn == True then display it\n",
    "    col_n = X_i.shape[0]\n",
    "    if bar_plot_yn == True:\n",
    "        sensitivity_df['contribution_x'].plot(kind='barh', figsize=(10, 0.7*col_n))\n",
    "        plt.title('Sensitivity Analysis', fontsize=18)\n",
    "        plt.xlabel('Contribution', fontsize=16)\n",
    "        plt.ylabel('Variable', fontsize=16)\n",
    "        plt.yticks(fontsize=14)\n",
    "        plt.show()\n",
    "    \n",
    "    return sensitivity_df.sort_values(by='contribution_x', ascending=False)"
   ]
  },
  {
   "cell_type": "code",
   "execution_count": 34,
   "metadata": {},
   "outputs": [
    {
     "data": {
      "image/png": "[encoded data removed]",
      "text/plain": [
       "<Figure size 720x403.2 with 1 Axes>"
      ]
     },
     "metadata": {
      "needs_background": "light"
     },
     "output_type": "display_data"
    },
    {
     "data": {
      "text/html": [
       "<div>\n",
       "<style scoped>\n",
       "    .dataframe tbody tr th:only-of-type {\n",
       "        vertical-align: middle;\n",
       "    }\n",
       "\n",
       "    .dataframe tbody tr th {\n",
       "        vertical-align: top;\n",
       "    }\n",
       "\n",
       "    .dataframe thead th {\n",
       "        text-align: right;\n",
       "    }\n",
       "</style>\n",
       "<table border=\"1\" class=\"dataframe\">\n",
       "  <thead>\n",
       "    <tr style=\"text-align: right;\">\n",
       "      <th></th>\n",
       "      <th>idx</th>\n",
       "      <th>task</th>\n",
       "      <th>x</th>\n",
       "      <th>contribution_x</th>\n",
       "    </tr>\n",
       "  </thead>\n",
       "  <tbody>\n",
       "    <tr>\n",
       "      <th>length</th>\n",
       "      <td>0</td>\n",
       "      <td>LogitReg</td>\n",
       "      <td>0.210</td>\n",
       "      <td>9.995470e-01</td>\n",
       "    </tr>\n",
       "    <tr>\n",
       "      <th>diameter</th>\n",
       "      <td>0</td>\n",
       "      <td>LogitReg</td>\n",
       "      <td>0.150</td>\n",
       "      <td>8.543829e-01</td>\n",
       "    </tr>\n",
       "    <tr>\n",
       "      <th>shell_weight</th>\n",
       "      <td>0</td>\n",
       "      <td>LogitReg</td>\n",
       "      <td>0.013</td>\n",
       "      <td>6.213326e-01</td>\n",
       "    </tr>\n",
       "    <tr>\n",
       "      <th>height</th>\n",
       "      <td>0</td>\n",
       "      <td>LogitReg</td>\n",
       "      <td>0.055</td>\n",
       "      <td>6.032407e-01</td>\n",
       "    </tr>\n",
       "    <tr>\n",
       "      <th>sex_m</th>\n",
       "      <td>0</td>\n",
       "      <td>LogitReg</td>\n",
       "      <td>0.000</td>\n",
       "      <td>5.000000e-01</td>\n",
       "    </tr>\n",
       "    <tr>\n",
       "      <th>sex_f</th>\n",
       "      <td>0</td>\n",
       "      <td>LogitReg</td>\n",
       "      <td>0.000</td>\n",
       "      <td>5.000000e-01</td>\n",
       "    </tr>\n",
       "    <tr>\n",
       "      <th>rings</th>\n",
       "      <td>0</td>\n",
       "      <td>LogitReg</td>\n",
       "      <td>4.000</td>\n",
       "      <td>3.954123e-01</td>\n",
       "    </tr>\n",
       "    <tr>\n",
       "      <th>const</th>\n",
       "      <td>0</td>\n",
       "      <td>LogitReg</td>\n",
       "      <td>1.000</td>\n",
       "      <td>4.422659e-16</td>\n",
       "    </tr>\n",
       "  </tbody>\n",
       "</table>\n",
       "</div>"
      ],
      "text/plain": [
       "              idx      task      x  contribution_x\n",
       "length          0  LogitReg  0.210    9.995470e-01\n",
       "diameter        0  LogitReg  0.150    8.543829e-01\n",
       "shell_weight    0  LogitReg  0.013    6.213326e-01\n",
       "height          0  LogitReg  0.055    6.032407e-01\n",
       "sex_m           0  LogitReg  0.000    5.000000e-01\n",
       "sex_f           0  LogitReg  0.000    5.000000e-01\n",
       "rings           0  LogitReg  4.000    3.954123e-01\n",
       "const           0  LogitReg  1.000    4.422659e-16"
      ]
     },
     "execution_count": 34,
     "metadata": {},
     "output_type": "execute_result"
    }
   ],
   "source": [
    "# apply sensitivity analysis function on 1st observation for Logistic Regression\n",
    "sensitivity_analysis_LinearReg_LogitReg(task=\"LogitReg\"\n",
    "                                        , model=logitreg_fit\n",
    "                                        , X=X_test\n",
    "                                        , idx=0\n",
    "                                        , bar_plot_yn=True)"
   ]
  },
  {
   "cell_type": "markdown",
   "metadata": {},
   "source": [
    "Thanks!"
   ]
  },
  {
   "cell_type": "code",
   "execution_count": null,
   "metadata": {},
   "outputs": [],
   "source": []
  }
 ],
 "metadata": {
  "kernelspec": {
   "display_name": "Python 3",
   "language": "python",
   "name": "python3"
  },
  "language_info": {
   "codemirror_mode": {
    "name": "ipython",
    "version": 3
   },
   "file_extension": ".py",
   "mimetype": "text/x-python",
   "name": "python",
   "nbconvert_exporter": "python",
   "pygments_lexer": "ipython3",
   "version": "3.6.7"
  }
 },
 "nbformat": 4,
 "nbformat_minor": 2
}
